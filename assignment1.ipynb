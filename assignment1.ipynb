{
 "cells": [
  {
   "cell_type": "code",
   "execution_count": 1,
   "id": "d95eef21-584f-478b-ab2c-acb51c3cc1b2",
   "metadata": {},
   "outputs": [
    {
     "data": {
      "text/plain": [
       "[1, 3, 5, 7, 9, 11, 13, 15, 17, 19, 21, 23, 25]"
      ]
     },
     "execution_count": 1,
     "metadata": {},
     "output_type": "execute_result"
    }
   ],
   "source": [
    "#Q1:\n",
    "#  \"def\" key word is used to create a function.\n",
    "\n",
    "def odd_no():\n",
    "    l1=[]\n",
    "    for i in range(1,26):\n",
    "        if (i%2!=0):\n",
    "            l1.append(i)\n",
    "    return l1\n",
    "odd_no()"
   ]
  },
  {
   "cell_type": "code",
   "execution_count": 3,
   "id": "881f7017-fa85-44f6-95fd-ab8677b6bd82",
   "metadata": {},
   "outputs": [
    {
     "data": {
      "text/plain": [
       "{'a': [1, 3, 6], 'b': 'shashank', 'x': 'sks', 'z': 1}"
      ]
     },
     "execution_count": 3,
     "metadata": {},
     "output_type": "execute_result"
    }
   ],
   "source": [
    "#Q2:\n",
    "\n",
    "'''**args and **kwargs is used in some functions to take  variable number of arguement passed by the user.\n",
    "\n",
    " *args is used for passing variable no. of int ,float,list,strings etc through arguement.\n",
    "where as **kwargs is used for passing variables no. of key value pairs through arguemnt.\n",
    "'''\n",
    "#*args function to genrate the o/p same as the input.\n",
    "\n",
    "def h1(*args):\n",
    "    return args\n",
    "h1(1,3,4,\"shashank\",\"chouhan\")\n",
    "\n",
    "\n",
    "#**kargs function to genrate the o/p same as the input for key value pairs.\n",
    "def h2(**kwargs):\n",
    "    return kwargs\n",
    "h2(a=[1,3,6],b=\"shashank\",x=\"sks\",z=1)\n"
   ]
  },
  {
   "cell_type": "code",
   "execution_count": 13,
   "id": "bf71f28c-d6e2-4ddc-bc71-ffa2fc87bf29",
   "metadata": {},
   "outputs": [
    {
     "name": "stdout",
     "output_type": "stream",
     "text": [
      "2 4 6 8 10 \n",
      "\n",
      "2 4 6 8 10 "
     ]
    }
   ],
   "source": [
    "#Q3:\n",
    "'''An iterator is an object that allows you to iterate over collections of data, such as lists, tuples, dictionaries..\n",
    "\n",
    ".method used for iteration are : \n",
    "1.> using for loop \n",
    "2.> usinf while loop\n",
    "\n",
    "1>for loop\n",
    "it will be excute the block of statement until the loop is exhausted .\n",
    "syntax:\n",
    "for i in range(1,21,1):\n",
    "      // statements to be execute multiple times\n",
    "      \n",
    "the above loop will run 21-1 times and during each iteration it will increase the value of iterator object by 1 after each iteration.\n",
    "\n",
    "\n",
    "2.> while loop:\n",
    "it will keep executing the block of statements until the given condtion become false.\n",
    "syntax:\n",
    "while(\"condition\"):\n",
    "    //statements to be execute multiple times\n",
    "    \n",
    "\n",
    "\n",
    "Using these methods to print the first five elements of the given list [2, 4, 6, 8, 10, 12, 14,\n",
    "16, 18, 20].'''\n",
    "\n",
    "l=[2, 4, 6, 8, 10, 12, 14,16, 18, 20]\n",
    "for i in range(0,5):\n",
    "    print(l[i],end=\" \")\n",
    "print(\"\\n\")\n",
    "    \n",
    "#using while loop\n",
    "i=0\n",
    "while(i<5):\n",
    "    print(l[i],end=\" \")\n",
    "    i=i+1\n"
   ]
  },
  {
   "cell_type": "code",
   "execution_count": 15,
   "id": "9a2afb26-9946-432a-ae72-80854e413105",
   "metadata": {},
   "outputs": [
    {
     "data": {
      "text/plain": [
       "[0, 1, 1, 2, 3, 5, 8, 13, 21, 34]"
      ]
     },
     "execution_count": 15,
     "metadata": {},
     "output_type": "execute_result"
    }
   ],
   "source": [
    "#Q4.> \n",
    "'''Generator function is a special type of function which generate one by one continously without holding anything in memorty.\n",
    "it is basically used as it is memory efficient.\n",
    "\n",
    "Yield:\n",
    "it is keyword used to genrate the next value of generator functions.\n",
    "it bascially throw the value of generator function.\n",
    "'''\n",
    "#eg:\n",
    "def gen(n):\n",
    "    a,b=0,1\n",
    "    for i in range(n):\n",
    "        yield a\n",
    "        a,b=b,a+b\n",
    "\n",
    "list(gen(10))"
   ]
  },
  {
   "cell_type": "code",
   "execution_count": 27,
   "id": "4b2ab815-e04b-4482-9fad-457d5afffe80",
   "metadata": {},
   "outputs": [
    {
     "name": "stdout",
     "output_type": "stream",
     "text": [
      "2\n",
      "3\n",
      "5\n",
      "7\n",
      "11\n",
      "13\n",
      "17\n",
      "19\n",
      "23\n",
      "29\n",
      "31\n",
      "37\n",
      "41\n",
      "43\n",
      "47\n",
      "53\n",
      "59\n",
      "61\n",
      "67\n",
      "71\n"
     ]
    }
   ],
   "source": [
    "#Q5:\n",
    "def prime():\n",
    "    yield 2\n",
    "    p_list=[2]\n",
    "    for i in range(3,1000):\n",
    "        is_prime=True\n",
    "        for p in p_list:\n",
    "            if i%p==0:\n",
    "                is_prime=False\n",
    "                break\n",
    "        if is_prime:\n",
    "            yield i\n",
    "            p_list.append(i)\n",
    "prime_no=prime()\n",
    "for i in range(20):\n",
    "    print(next(prime_no))"
   ]
  },
  {
   "cell_type": "code",
   "execution_count": null,
   "id": "4cdb46ff-92b7-418c-a5f8-080cc222b9e8",
   "metadata": {},
   "outputs": [
    {
     "name": "stdout",
     "output_type": "stream",
     "text": [
      "0\n",
      "1\n",
      "1\n",
      "2\n",
      "3\n",
      "5\n",
      "8\n",
      "13\n",
      "21\n",
      "34\n"
     ]
    }
   ],
   "source": [
    "#Q6> \n",
    "a=0\n",
    "b=1\n",
    "print(a)\n",
    "print(b)\n",
    "i=8\n",
    "while(i>0):\n",
    "    print(a+b)\n",
    "    a,b=b,a+b\n",
    "    i=i-1\n",
    "    \n",
    "    \n",
    "\n"
   ]
  },
  {
   "cell_type": "code",
   "execution_count": 36,
   "id": "75e1c7cf-26e7-4ada-b8ef-03387767b70e",
   "metadata": {},
   "outputs": [
    {
     "data": {
      "text/plain": [
       "['p', 'w', 's', 'k', 'i', 'l', 'l', 's']"
      ]
     },
     "execution_count": 36,
     "metadata": {},
     "output_type": "execute_result"
    }
   ],
   "source": [
    "#Q7\n",
    "s=\"pwskills\"\n",
    "list(s)"
   ]
  },
  {
   "cell_type": "code",
   "execution_count": 50,
   "id": "cde98ef2-a337-498a-acdb-351d34f8c30b",
   "metadata": {},
   "outputs": [
    {
     "name": "stdout",
     "output_type": "stream",
     "text": [
      "given no. is pallindrome\n"
     ]
    }
   ],
   "source": [
    "#Q8:\n",
    "def pallindrome(n):\n",
    "    temp=n\n",
    "    rev=0\n",
    "    while(temp>0):\n",
    "        digit=temp%10\n",
    "        rev=rev*10+digit\n",
    "        temp=temp//10\n",
    "    if(n==rev):\n",
    "        print(\"given no. is pallindrome\")\n",
    "    else:\n",
    "        print(\"given no. is not pallindrome\")\n",
    "        \n",
    "pallindrome(121)\n",
    "    \n"
   ]
  },
  {
   "cell_type": "code",
   "execution_count": 42,
   "id": "98721620-9c59-4c09-a667-1f4384faa71c",
   "metadata": {},
   "outputs": [
    {
     "name": "stdout",
     "output_type": "stream",
     "text": [
      "[1, 3, 5, 7, 9, 11, 13, 15, 17, 19, 21, 23, 25, 27, 29, 31, 33, 35, 37, 39, 41, 43, 45, 47, 49, 51, 53, 55, 57, 59, 61, 63, 65, 67, 69, 71, 73, 75, 77, 79, 81, 83, 85, 87, 89, 91, 93, 95, 97, 99]\n"
     ]
    }
   ],
   "source": [
    "#Q9.\n",
    "#genrating list\n",
    "l=[]\n",
    "for i in range(1,101):\n",
    "    l.append(i)\n",
    "\n",
    "\n",
    "\n",
    "# extracting odd numbers\n",
    "print(list(filter(lambda x:x%2!=0,l)))"
   ]
  }
 ],
 "metadata": {
  "kernelspec": {
   "display_name": "Python 3 (ipykernel)",
   "language": "python",
   "name": "python3"
  },
  "language_info": {
   "codemirror_mode": {
    "name": "ipython",
    "version": 3
   },
   "file_extension": ".py",
   "mimetype": "text/x-python",
   "name": "python",
   "nbconvert_exporter": "python",
   "pygments_lexer": "ipython3",
   "version": "3.10.8"
  }
 },
 "nbformat": 4,
 "nbformat_minor": 5
}
